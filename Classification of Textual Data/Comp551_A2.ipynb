{
  "cells": [
    {
      "cell_type": "markdown",
      "metadata": {
        "id": "UtclpGpjfo1M"
      },
      "source": [
        "# Imports"
      ]
    },
    {
      "cell_type": "code",
      "execution_count": 1,
      "metadata": {
        "colab": {
          "base_uri": "https://localhost:8080/"
        },
        "id": "UkkHNNi-rnEx",
        "outputId": "370ffc27-16f2-49cb-f7f1-c5b8b123615e"
      },
      "outputs": [
        {
          "output_type": "stream",
          "name": "stdout",
          "text": [
            "Drive already mounted at /content/drive; to attempt to forcibly remount, call drive.mount(\"/content/drive\", force_remount=True).\n"
          ]
        }
      ],
      "source": [
        "from google.colab import drive\n",
        "drive.mount('/content/drive')"
      ]
    },
    {
      "cell_type": "code",
      "execution_count": 2,
      "metadata": {
        "colab": {
          "base_uri": "https://localhost:8080/"
        },
        "id": "SDUD21btkJ94",
        "outputId": "865e337e-1d46-4e4a-e793-35edf58b386f"
      },
      "outputs": [
        {
          "output_type": "stream",
          "name": "stdout",
          "text": [
            "[nltk_data] Downloading package stopwords to /root/nltk_data...\n",
            "[nltk_data]   Package stopwords is already up-to-date!\n",
            "[nltk_data] Downloading package wordnet to /root/nltk_data...\n",
            "[nltk_data]   Package wordnet is already up-to-date!\n"
          ]
        },
        {
          "output_type": "execute_result",
          "data": {
            "text/plain": [
              "True"
            ]
          },
          "metadata": {},
          "execution_count": 2
        }
      ],
      "source": [
        "import pandas as pd\n",
        "import numpy as np\n",
        "import matplotlib.pyplot as plt\n",
        "from sklearn.linear_model import LogisticRegression\n",
        "from sklearn.datasets import fetch_20newsgroups\n",
        "from sklearn.feature_extraction.text import CountVectorizer\n",
        "import nltk\n",
        "from nltk.corpus import stopwords, wordnet\n",
        "from nltk.stem import WordNetLemmatizer\n",
        "from nltk.stem.porter import PorterStemmer\n",
        "from nltk.tokenize import RegexpTokenizer\n",
        "import re\n",
        "from collections import Counter\n",
        "from sklearn.naive_bayes import MultinomialNB\n",
        "from pandas.core.arrays.numeric import T\n",
        "nltk.download('stopwords')\n",
        "nltk.download('wordnet')"
      ]
    },
    {
      "cell_type": "code",
      "execution_count": 3,
      "metadata": {
        "id": "4RrSylTP1Ejb"
      },
      "outputs": [],
      "source": [
        "np.random.seed(1)"
      ]
    },
    {
      "cell_type": "markdown",
      "metadata": {
        "id": "mIAcfXU81ESr"
      },
      "source": [
        ""
      ]
    },
    {
      "cell_type": "markdown",
      "metadata": {
        "id": "Tm-bgS2RkBNe"
      },
      "source": [
        "# Pre-Preprocessing"
      ]
    },
    {
      "cell_type": "code",
      "execution_count": 4,
      "metadata": {
        "id": "krqewNNcptC-"
      },
      "outputs": [],
      "source": [
        "# Preprocessing\n",
        "stop_words = set(stopwords.words('english'))\n",
        "tokenizer = RegexpTokenizer(r'\\w+')\n",
        "lemmatizer = WordNetLemmatizer()\n",
        "stemmer = PorterStemmer()\n",
        "\n",
        "# Define vectorizers\n",
        "cv1 = CountVectorizer(min_df=100)\n",
        "cv2 = CountVectorizer(min_df=100)\n",
        "# Define Vectorizer\n",
        "cv3 = CountVectorizer(min_df=500)\n",
        "cv4 = CountVectorizer(min_df=500)"
      ]
    },
    {
      "cell_type": "code",
      "execution_count": 5,
      "metadata": {
        "id": "BRfokkt21tv5"
      },
      "outputs": [],
      "source": [
        "# Function which lowercases and tokenizes a review\n",
        "def tokenizeReview(review, tokenizer):\n",
        "    lowercase_review = review.lower()\n",
        "    tokenized_review = tokenizer.tokenize(lowercase_review)\n",
        "    return tokenized_review\n",
        "\n",
        "# Function which removes stopwords from a tokenized review\n",
        "def removeStopwordsReview(review):\n",
        "    stopwordsSet = set(stopwords.words('english'))\n",
        "    negations = set(['not', 'no', 'nor'])\n",
        "    stopwords_removed_review = [word for word in review if word not in (stopwordsSet-negations) and len(word) > 1]\n",
        "    return stopwords_removed_review\n",
        "\n",
        "# Function which lemmatizes words of a review\n",
        "def lemmatizeReview(review, lemmatizer):\n",
        "    lemmatized_review = [lemmatizer.lemmatize(word) for word in review]\n",
        "    return lemmatized_review\n",
        "\n",
        "# Function which stems words of a review\n",
        "def stemReview(review, stemmer):\n",
        "    stemmed_review = [stemmer.stem(word) for word in review]\n",
        "    return stemmed_review\n",
        "\n",
        "# Function which tokenizes, lemmatizes and stems a review\n",
        "def cleanReview(review, tokenizer, lemmatizer, stemmer):\n",
        "    return stemReview(lemmatizeReview(removeStopwordsReview(tokenizeReview(review, tokenizer)), lemmatizer), stemmer)"
      ]
    },
    {
      "cell_type": "markdown",
      "metadata": {
        "id": "S3xfRnpAM839"
      },
      "source": [
        "# Preprocessing"
      ]
    },
    {
      "cell_type": "markdown",
      "metadata": {
        "id": "b9sX3h4_NAYq"
      },
      "source": [
        "## News Data"
      ]
    },
    {
      "cell_type": "code",
      "execution_count": 6,
      "metadata": {
        "id": "U1PVBWZAmsZ_"
      },
      "outputs": [],
      "source": [
        "## Run this for getting the 20newsgroups data\n",
        "\n",
        "# Raw Data Only Tokenizer Train\n",
        "twenty_train = fetch_20newsgroups(subset='train',  remove=(['headers', 'footers', 'quotes']))\n",
        "twenty_train_x = pd.DataFrame(data=twenty_train.data, columns=['data'])\n",
        "twenty_train_x['data'] = twenty_train_x['data'].apply(lambda x: \" \".join(tokenizeReview(x, tokenizer)))\n",
        "\n",
        "# Raw Data Tokenizer + Stopwords + Lemma + Stem\n",
        "twenty_train_tsls = fetch_20newsgroups(subset='train',  remove=(['headers', 'footers', 'quotes']))\n",
        "twenty_train_tsls_x = pd.DataFrame(data=twenty_train_tsls.data, columns=['data'])\n",
        "twenty_train_tsls_x['data'] = twenty_train_tsls_x['data'].apply(lambda x: \" \".join(cleanReview(x, tokenizer, lemmatizer, stemmer)))\n",
        "\n",
        "# Raw Data Only Tokenizer Test\n",
        "twenty_test = fetch_20newsgroups(subset='test',  remove=(['headers', 'footers', 'quotes']))\n",
        "twenty_test_x = pd.DataFrame(data=twenty_test.data, columns=['data'])\n",
        "twenty_test_x['data'] = twenty_test_x['data'].apply(lambda x: \" \".join(tokenizeReview(x, tokenizer)))\n",
        "\n",
        "# Raw Data Only Tokenizer Test\n",
        "twenty_test_tsls = fetch_20newsgroups(subset='test',  remove=(['headers', 'footers', 'quotes']))\n",
        "twenty_test_tsls_x = pd.DataFrame(data=twenty_test_tsls.data, columns=['data'])\n",
        "twenty_test_tsls_x['data'] = twenty_test_tsls_x['data'].apply(lambda x: \" \".join(cleanReview(x, tokenizer, lemmatizer, stemmer)))\n",
        "\n"
      ]
    },
    {
      "cell_type": "code",
      "execution_count": 7,
      "metadata": {
        "id": "RdHaPOz80Y1L"
      },
      "outputs": [],
      "source": [
        "# Train Vectors\n",
        "twenty_train_x_vec = cv1.fit_transform(twenty_train_x['data']).toarray()\n",
        "twenty_train_tsls_x_vec = cv2.fit_transform(twenty_train_tsls_x['data']).toarray()\n",
        "twenty_train_y_vec = twenty_train.target#.reshape(11314,1)\n",
        "\n",
        "# Test Set\n",
        "twenty_test_x_vec = cv1.transform(twenty_test_x['data']).toarray()\n",
        "twenty_test_tsls_x_vec = cv2.transform(twenty_test_tsls_x['data']).toarray()\n",
        "twenty_test_y_vec = twenty_test.target#.reshape(7532,1)"
      ]
    },
    {
      "cell_type": "code",
      "execution_count": 8,
      "metadata": {
        "colab": {
          "base_uri": "https://localhost:8080/"
        },
        "id": "dCn81pEAKpUg",
        "outputId": "7a57e581-259d-438d-8293-720a3aa6c832"
      },
      "outputs": [
        {
          "output_type": "stream",
          "name": "stdout",
          "text": [
            "(11314, 1578)\n",
            "(11314, 1451)\n",
            "(11314,)\n",
            "(7532, 1578)\n",
            "(7532, 1451)\n",
            "(7532,)\n",
            "<class 'numpy.ndarray'>\n",
            "<class 'numpy.ndarray'>\n",
            "<class 'numpy.ndarray'>\n",
            "<class 'numpy.ndarray'>\n",
            "<class 'numpy.ndarray'>\n",
            "<class 'numpy.ndarray'>\n"
          ]
        }
      ],
      "source": [
        "print(twenty_train_x_vec.shape)\n",
        "print(twenty_train_tsls_x_vec.shape)\n",
        "print(twenty_train_y_vec.shape)\n",
        "print(twenty_test_x_vec.shape)\n",
        "print(twenty_test_tsls_x_vec.shape)\n",
        "print(twenty_test_y_vec.shape)\n",
        "print(type(twenty_train_x_vec))\n",
        "print(type(twenty_train_tsls_x_vec))\n",
        "print(type(twenty_train_y_vec))\n",
        "print(type(twenty_test_x_vec))\n",
        "print(type(twenty_test_tsls_x_vec))\n",
        "print(type(twenty_test_y_vec))"
      ]
    },
    {
      "cell_type": "code",
      "execution_count": 9,
      "metadata": {
        "colab": {
          "base_uri": "https://localhost:8080/",
          "height": 420
        },
        "id": "mGOq4OXRkZwZ",
        "outputId": "16a01910-bc35-4b6c-9a58-616d2a2e72c1"
      },
      "outputs": [
        {
          "output_type": "display_data",
          "data": {
            "image/png": "[encoded data removed]",
            "text/plain": [
              "<Figure size 432x288 with 1 Axes>"
            ]
          },
          "metadata": {
            "needs_background": "light"
          }
        }
      ],
      "source": [
        "newsgroups_y = fetch_20newsgroups(subset='train').target_names\n",
        "newsgroups_count = list(Counter(fetch_20newsgroups(subset='all').target).values())\n",
        "newsgroups_count\n",
        "\n",
        "plt.bar( newsgroups_y,newsgroups_count)\n",
        "plt.xticks(rotation=90)\n",
        "plt.xlabel('Category')\n",
        "plt.ylabel('Count')\n",
        "plt.title('20 Newsgroups Category Distribution')\n",
        "plt.show()"
      ]
    },
    {
      "cell_type": "markdown",
      "metadata": {
        "id": "iv_df8WCNKkG"
      },
      "source": [
        "## Sentiment140 Data"
      ]
    },
    {
      "cell_type": "markdown",
      "metadata": {
        "id": "DTJfy5cx3Pvu"
      },
      "source": [
        "Move the training.1600000.processed.noemoticon.csv file to MyDrive and mount your drive"
      ]
    },
    {
      "cell_type": "code",
      "execution_count": 10,
      "metadata": {
        "id": "cct91w6A3kg8"
      },
      "outputs": [],
      "source": [
        "## Run this for getting the tweet data\n",
        "\n",
        "# Raw Data\n",
        "s140_train = pd.read_csv('./drive/MyDrive/training.1600000.processed.noemoticon.csv', encoding='latin-1', usecols=[0,5], names=['y','data'])\n",
        "s140_train.loc[s140_train['y']==4, 'y'] = 1\n",
        "\n",
        "N = len(s140_train)\n",
        "inds = np.random.permutation(N)\n",
        "train_size = int(0.05*N)\n",
        "\n",
        "s140_train_x = s140_train['data'].copy()[inds[:train_size]].apply(lambda x: \" \".join(tokenizeReview(x, tokenizer)))\n",
        "s140_train_tsls_x = s140_train['data'].copy()[inds[:train_size]].apply(lambda x: \" \".join(cleanReview(x, tokenizer, lemmatizer, stemmer)))\n",
        "\n",
        "s140_test = pd.read_csv('./drive/MyDrive/new_testdata.manual.2009.06.14.csv', encoding='latin-1', usecols=[0,5], names=['y','data'])\n",
        "s140_test.loc[s140_test['y']==4, 'y'] = 1\n",
        "s140_test_x = s140_test[['data']].copy()\n",
        "s140_test_x['data']=s140_test_x['data'].apply(lambda x: \" \".join(tokenizeReview(x, tokenizer)))\n",
        "s140_test_tsls_x = s140_test[['data']].copy()\n",
        "s140_test_tsls_x['data']=s140_test_tsls_x['data'].apply(lambda x: \" \".join(cleanReview(x, tokenizer, lemmatizer, stemmer)))"
      ]
    },
    {
      "cell_type": "code",
      "execution_count": 11,
      "metadata": {
        "id": "kame2GrVcsA5"
      },
      "outputs": [],
      "source": [
        "s140_train_x.to_csv('./drive/MyDrive/s140_train_x.csv')\n",
        "s140_train_tsls_x.to_csv('./drive/MyDrive/s140_train_tsls_x.csv')\n"
      ]
    },
    {
      "cell_type": "code",
      "execution_count": 12,
      "metadata": {
        "id": "uBhv8A5fQUMm"
      },
      "outputs": [],
      "source": [
        "# Train Vectors\n",
        "s140_train_x_vec = cv3.fit_transform(s140_train_x.values.astype(str)).toarray()\n",
        "s140_train_tsls_x_vec = cv4.fit_transform(s140_train_tsls_x.values.astype(str)).toarray()\n",
        "s140_train_y_vec = s140_train['y'][inds[:train_size]].values#.reshape(1600000,1)\n",
        "\n",
        "# Test Set\n",
        "s140_test_x_vec = cv3.transform(s140_test_x['data']).toarray()\n",
        "s140_test_tsls_x_vec = cv4.transform(s140_test_tsls_x['data']).toarray()\n",
        "s140_test_y_vec = s140_test['y'].values#.reshape(359,1)"
      ]
    },
    {
      "cell_type": "code",
      "execution_count": 13,
      "metadata": {
        "colab": {
          "base_uri": "https://localhost:8080/"
        },
        "id": "BjJVaIlAiq-3",
        "outputId": "7e94f6cf-d04e-4c10-b9d6-36596b04e6e8"
      },
      "outputs": [
        {
          "output_type": "stream",
          "name": "stdout",
          "text": [
            "(80000, 266)\n",
            "(80000, 188)\n",
            "(80000,)\n",
            "(359, 266)\n",
            "(359, 188)\n",
            "(359,)\n",
            "<class 'numpy.ndarray'>\n",
            "<class 'numpy.ndarray'>\n",
            "<class 'numpy.ndarray'>\n",
            "<class 'numpy.ndarray'>\n",
            "<class 'numpy.ndarray'>\n",
            "<class 'numpy.ndarray'>\n"
          ]
        }
      ],
      "source": [
        "print(s140_train_x_vec.shape)\n",
        "print(s140_train_tsls_x_vec.shape)\n",
        "print(s140_train_y_vec.shape)\n",
        "print(s140_test_x_vec.shape)\n",
        "print(s140_test_tsls_x_vec.shape)\n",
        "print(s140_test_y_vec.shape)\n",
        "print(type(s140_train_x_vec))\n",
        "print(type(s140_train_tsls_x_vec))\n",
        "print(type(s140_train_y_vec))\n",
        "print(type(s140_test_x_vec))\n",
        "print(type(s140_test_tsls_x_vec))\n",
        "print(type(s140_test_y_vec))"
      ]
    },
    {
      "cell_type": "code",
      "execution_count": 14,
      "metadata": {
        "colab": {
          "base_uri": "https://localhost:8080/",
          "height": 330
        },
        "id": "QI0P2SCRp3Sv",
        "outputId": "eba8181d-18ff-4bf2-df8d-a3e5d90b853b"
      },
      "outputs": [
        {
          "output_type": "display_data",
          "data": {
            "image/png": "[encoded data removed]",
            "text/plain": [
              "<Figure size 432x288 with 1 Axes>"
            ]
          },
          "metadata": {
            "needs_background": "light"
          }
        }
      ],
      "source": [
        "\n",
        "plt.bar(['Negative', 'Positive'] ,Counter(s140_train['y']).values())\n",
        "plt.xticks(rotation=90)\n",
        "plt.xlabel('Sentiment')\n",
        "plt.ylabel('Count')\n",
        "plt.title('Sentiment140 Category Distribution')\n",
        "plt.show()"
      ]
    },
    {
      "cell_type": "markdown",
      "metadata": {
        "id": "fjU6VFY_3OzJ"
      },
      "source": [
        "# Cross Validation"
      ]
    },
    {
      "cell_type": "code",
      "execution_count": 15,
      "metadata": {
        "id": "8oJplRlg3Nrk"
      },
      "outputs": [],
      "source": [
        "def evaluate_acc(y_predict, y_test):\n",
        "  return np.sum(y_predict == y_test)/y_predict.shape[0]\n",
        "\n",
        "class CrossValidation:\n",
        "    def __init__(self):\n",
        "        return\n",
        "\n",
        "    def cross_validation_split(self, x, y, k):\n",
        "        N = len(x)\n",
        "        num_per_split = N // k\n",
        "        output_x = []\n",
        "        output_y = []\n",
        "        inds = np.random.permutation(N)\n",
        "        for i in range(k):\n",
        "            if i==0:\n",
        "                output_x.append(x[inds[:(i+1)*num_per_split]])\n",
        "                output_y.append(y[inds[:(i+1)*num_per_split]])\n",
        "            elif i==k-1:\n",
        "                output_x.append(x[inds[(i)*num_per_split:]])\n",
        "                output_y.append(y[inds[(i)*num_per_split:]])\n",
        "            else:\n",
        "                output_x.append(x[inds[(i)*num_per_split:(i+1)*num_per_split]])\n",
        "                output_y.append(y[inds[(i)*num_per_split:(i+1)*num_per_split]])\n",
        "        return output_x, output_y\n",
        "\n",
        "    def kfoldCV(self, x, y, k, model):\n",
        "        totalscore = 0\n",
        "        for i in range(k):\n",
        "            valid_x, valid_y = x[i], y[i]\n",
        "            train_x, train_y = np.concatenate(tuple([a for index, a in enumerate(x) if i != index])), np.concatenate(tuple([a for index, a in enumerate(y) if i != index]))\n",
        "            model.fit(train_x, train_y)\n",
        "            y_pred = model.predict(valid_x)\n",
        "            totalscore += evaluate_acc(y_pred, valid_y)\n",
        "        return totalscore/k\n",
        "\n",
        "\n",
        "        "
      ]
    },
    {
      "cell_type": "markdown",
      "metadata": {
        "id": "jqqUuznU4zbv"
      },
      "source": [
        "# Naive Bayes"
      ]
    },
    {
      "cell_type": "markdown",
      "metadata": {
        "id": "61BAghOe4wF-"
      },
      "source": [
        "## Gaussian Naive Bayes"
      ]
    },
    {
      "cell_type": "code",
      "execution_count": 16,
      "metadata": {
        "id": "-Pgz3TTj4m6Q"
      },
      "outputs": [],
      "source": [
        "def logsumexp(Z):                               \n",
        "    Zmax = np.max(Z,axis=0)[None,:]         \n",
        "    log_sum_exp = Zmax + np.log(np.sum(np.exp(Z - Zmax), axis=0))\n",
        "    return log_sum_exp\n",
        "\n",
        "class GaussianNaiveBayes:\n",
        "    \n",
        "    def __init__(self, var_smoothing=0.005):\n",
        "        self.var_smoothing = var_smoothing\n",
        "        return\n",
        "\n",
        "    def fit(self, x, y):\n",
        "        N, D = x.shape\n",
        "        labels = set(y)\n",
        "        C = len(labels)\n",
        "        mu, sigma = np.zeros((C,D)), np.zeros((C,D))\n",
        "        Nc = np.zeros(C)\n",
        "        for c in labels:\n",
        "            x_c = x[y == c]\n",
        "            Nc[c] = x_c.shape[0]\n",
        "            mu[c,:] = np.mean(x_c,0)\n",
        "            sigma[c,:] = np.std(x_c, 0)\n",
        "            \n",
        "        self.mu = mu\n",
        "        self.sigma = sigma+self.var_smoothing\n",
        "        self.pi = (Nc+1)/(N+C)\n",
        "        return self\n",
        "\n",
        "def predict(self, xt):\n",
        "    Nt, D = xt.shape\n",
        "    log_prior = np.log(self.pi)[:, None]\n",
        "    log_likelihood = -.5 * np.log(2*np.pi) - np.log(self.sigma[:,None,:]) -.5 * (((xt[None,:,:] - self.mu[:,None,:])/self.sigma[:,None,:])**2)\n",
        "    log_likelihood = np.sum(log_likelihood, axis=2)\n",
        "    log_posterior = log_prior + log_likelihood\n",
        "    posterior = np.exp(log_posterior - logsumexp(log_posterior))\n",
        "    return np.argmax(posterior.T,1) \n",
        "\n",
        "GaussianNaiveBayes.predict = predict\n",
        "\n"
      ]
    },
    {
      "cell_type": "markdown",
      "metadata": {
        "id": "-6d5nNLW40mq"
      },
      "source": [
        "### Multinomial Naive Bayes"
      ]
    },
    {
      "cell_type": "code",
      "execution_count": 17,
      "metadata": {
        "id": "jxUtqJnS7P6m"
      },
      "outputs": [],
      "source": [
        "class MultinomialNaiveBayes:\n",
        "    def __init__(self, alpha=1):\n",
        "        self.alpha = alpha \n",
        "\n",
        "    def fit(self, x, y):\n",
        "        N, D = x.shape\n",
        "        self.C = np.unique(y)\n",
        "        nC = len(self.C)\n",
        "        self.prior = np.zeros(nC)\n",
        "        self.likelihood = np.zeros((nC, D))\n",
        "\n",
        "        for idx, c in enumerate(self.C):\n",
        "            x_c = x[c == y]\n",
        "            self.prior[idx] = x_c.shape[0] / N \n",
        "            self.likelihood[idx, :] = ((x_c.sum(axis=0)) + self.alpha) / (np.sum(x_c.sum(axis=0) + self.alpha))\n",
        "\n",
        "    def predict_helper(self, x):\n",
        "        posteriors = []\n",
        "        for i, c in enumerate(self.C):\n",
        "            posteriors.append(np.sum(np.log(self.likelihood[i,:]) * x) + np.log(self.prior[i]))\n",
        "\n",
        "        return self.C[np.argmax(posteriors)]\n",
        "\n",
        "    def predict(self, x):\n",
        "        return np.array([self.predict_helper(row) for row in x])"
      ]
    },
    {
      "cell_type": "markdown",
      "metadata": {
        "id": "a7n0shPHuLYM"
      },
      "source": [
        "# Testing"
      ]
    },
    {
      "cell_type": "code",
      "execution_count": 18,
      "metadata": {
        "id": "dtmqJI_9uTRU"
      },
      "outputs": [],
      "source": [
        "def percent_split(x,y,percent):\n",
        "    N = len(x)\n",
        "    inds = np.random.permutation(N)\n",
        "    train_size = int(percent*N)\n",
        "    return x[inds[:train_size]], y[inds[:train_size]]"
      ]
    },
    {
      "cell_type": "code",
      "execution_count": 19,
      "metadata": {
        "id": "tJHzTf0AEnZU"
      },
      "outputs": [],
      "source": [
        "cv = CrossValidation()\n",
        "ttx, tty = cv.cross_validation_split(twenty_train_x_vec, twenty_train_y_vec, 5)\n",
        "tttx, ttty = cv.cross_validation_split(twenty_train_tsls_x_vec, twenty_train_y_vec, 5)\n",
        "stx, sty = cv.cross_validation_split(s140_train_x_vec, s140_train_y_vec, 5)\n",
        "sttx, stty = cv.cross_validation_split(s140_train_tsls_x_vec, s140_train_y_vec, 5)\n",
        "\n",
        "ttx_20, tty_20 = percent_split(twenty_train_x_vec, twenty_train_y_vec, 0.2)\n",
        "ttx_40, tty_40 = percent_split(twenty_train_x_vec, twenty_train_y_vec, 0.4)\n",
        "ttx_60, tty_60 = percent_split(twenty_train_x_vec, twenty_train_y_vec, 0.6)\n",
        "ttx_80, tty_80 = percent_split(twenty_train_x_vec, twenty_train_y_vec, 0.8)\n",
        "ttx_100, tty_100 = twenty_train_x_vec, twenty_train_y_vec\n",
        "\n",
        "stx_20, sty_20 = percent_split(s140_train_x_vec, s140_train_y_vec, 0.2)\n",
        "stx_40, sty_40 = percent_split(s140_train_x_vec, s140_train_y_vec, 0.4)\n",
        "stx_60, sty_60 = percent_split(s140_train_x_vec, s140_train_y_vec, 0.6)\n",
        "stx_80, sty_80 = percent_split(s140_train_x_vec, s140_train_y_vec, 0.8)\n",
        "stx_100, sty_100 = s140_train_x_vec, s140_train_y_vec\n",
        "\n",
        "ttxs = [ttx_20, ttx_40, ttx_60, ttx_80, ttx_100]\n",
        "ttys = [tty_20, tty_40, tty_60, tty_80, tty_100]\n",
        "stxs = [stx_20, stx_40, stx_60, stx_80, stx_100]\n",
        "stys = [sty_20, sty_40, sty_60, sty_80, sty_100]"
      ]
    },
    {
      "cell_type": "code",
      "execution_count": 20,
      "metadata": {
        "id": "MGBJhcNO4FhY"
      },
      "outputs": [],
      "source": [
        "alpha = [1, 5, 10]\n",
        "smoothing = [0.005, 0.05, 0.5]\n",
        "max_iters = [50, 75, 100]\n",
        "solvers = ['lbfgs']"
      ]
    },
    {
      "cell_type": "code",
      "execution_count": 21,
      "metadata": {
        "colab": {
          "base_uri": "https://localhost:8080/"
        },
        "id": "wI9tRePH4sS2",
        "outputId": "5e6781b8-4808-4769-cf26-7ce93b387a36"
      },
      "outputs": [
        {
          "output_type": "stream",
          "name": "stdout",
          "text": [
            "0.005\n",
            "0.05\n",
            "0.5\n",
            "1\n",
            "5\n",
            "10\n",
            "50\n"
          ]
        },
        {
          "output_type": "stream",
          "name": "stderr",
          "text": [
            "/usr/local/lib/python3.7/dist-packages/sklearn/linear_model/_logistic.py:818: ConvergenceWarning: lbfgs failed to converge (status=1):\n",
            "STOP: TOTAL NO. of ITERATIONS REACHED LIMIT.\n",
            "\n",
            "Increase the number of iterations (max_iter) or scale the data as shown in:\n",
            "    https://scikit-learn.org/stable/modules/preprocessing.html\n",
            "Please also refer to the documentation for alternative solver options:\n",
            "    https://scikit-learn.org/stable/modules/linear_model.html#logistic-regression\n",
            "  extra_warning_msg=_LOGISTIC_SOLVER_CONVERGENCE_MSG,\n",
            "/usr/local/lib/python3.7/dist-packages/sklearn/linear_model/_logistic.py:818: ConvergenceWarning: lbfgs failed to converge (status=1):\n",
            "STOP: TOTAL NO. of ITERATIONS REACHED LIMIT.\n",
            "\n",
            "Increase the number of iterations (max_iter) or scale the data as shown in:\n",
            "    https://scikit-learn.org/stable/modules/preprocessing.html\n",
            "Please also refer to the documentation for alternative solver options:\n",
            "    https://scikit-learn.org/stable/modules/linear_model.html#logistic-regression\n",
            "  extra_warning_msg=_LOGISTIC_SOLVER_CONVERGENCE_MSG,\n",
            "/usr/local/lib/python3.7/dist-packages/sklearn/linear_model/_logistic.py:818: ConvergenceWarning: lbfgs failed to converge (status=1):\n",
            "STOP: TOTAL NO. of ITERATIONS REACHED LIMIT.\n",
            "\n",
            "Increase the number of iterations (max_iter) or scale the data as shown in:\n",
            "    https://scikit-learn.org/stable/modules/preprocessing.html\n",
            "Please also refer to the documentation for alternative solver options:\n",
            "    https://scikit-learn.org/stable/modules/linear_model.html#logistic-regression\n",
            "  extra_warning_msg=_LOGISTIC_SOLVER_CONVERGENCE_MSG,\n",
            "/usr/local/lib/python3.7/dist-packages/sklearn/linear_model/_logistic.py:818: ConvergenceWarning: lbfgs failed to converge (status=1):\n",
            "STOP: TOTAL NO. of ITERATIONS REACHED LIMIT.\n",
            "\n",
            "Increase the number of iterations (max_iter) or scale the data as shown in:\n",
            "    https://scikit-learn.org/stable/modules/preprocessing.html\n",
            "Please also refer to the documentation for alternative solver options:\n",
            "    https://scikit-learn.org/stable/modules/linear_model.html#logistic-regression\n",
            "  extra_warning_msg=_LOGISTIC_SOLVER_CONVERGENCE_MSG,\n",
            "/usr/local/lib/python3.7/dist-packages/sklearn/linear_model/_logistic.py:818: ConvergenceWarning: lbfgs failed to converge (status=1):\n",
            "STOP: TOTAL NO. of ITERATIONS REACHED LIMIT.\n",
            "\n",
            "Increase the number of iterations (max_iter) or scale the data as shown in:\n",
            "    https://scikit-learn.org/stable/modules/preprocessing.html\n",
            "Please also refer to the documentation for alternative solver options:\n",
            "    https://scikit-learn.org/stable/modules/linear_model.html#logistic-regression\n",
            "  extra_warning_msg=_LOGISTIC_SOLVER_CONVERGENCE_MSG,\n"
          ]
        },
        {
          "output_type": "stream",
          "name": "stdout",
          "text": [
            "75\n"
          ]
        },
        {
          "output_type": "stream",
          "name": "stderr",
          "text": [
            "/usr/local/lib/python3.7/dist-packages/sklearn/linear_model/_logistic.py:818: ConvergenceWarning: lbfgs failed to converge (status=1):\n",
            "STOP: TOTAL NO. of ITERATIONS REACHED LIMIT.\n",
            "\n",
            "Increase the number of iterations (max_iter) or scale the data as shown in:\n",
            "    https://scikit-learn.org/stable/modules/preprocessing.html\n",
            "Please also refer to the documentation for alternative solver options:\n",
            "    https://scikit-learn.org/stable/modules/linear_model.html#logistic-regression\n",
            "  extra_warning_msg=_LOGISTIC_SOLVER_CONVERGENCE_MSG,\n",
            "/usr/local/lib/python3.7/dist-packages/sklearn/linear_model/_logistic.py:818: ConvergenceWarning: lbfgs failed to converge (status=1):\n",
            "STOP: TOTAL NO. of ITERATIONS REACHED LIMIT.\n",
            "\n",
            "Increase the number of iterations (max_iter) or scale the data as shown in:\n",
            "    https://scikit-learn.org/stable/modules/preprocessing.html\n",
            "Please also refer to the documentation for alternative solver options:\n",
            "    https://scikit-learn.org/stable/modules/linear_model.html#logistic-regression\n",
            "  extra_warning_msg=_LOGISTIC_SOLVER_CONVERGENCE_MSG,\n",
            "/usr/local/lib/python3.7/dist-packages/sklearn/linear_model/_logistic.py:818: ConvergenceWarning: lbfgs failed to converge (status=1):\n",
            "STOP: TOTAL NO. of ITERATIONS REACHED LIMIT.\n",
            "\n",
            "Increase the number of iterations (max_iter) or scale the data as shown in:\n",
            "    https://scikit-learn.org/stable/modules/preprocessing.html\n",
            "Please also refer to the documentation for alternative solver options:\n",
            "    https://scikit-learn.org/stable/modules/linear_model.html#logistic-regression\n",
            "  extra_warning_msg=_LOGISTIC_SOLVER_CONVERGENCE_MSG,\n",
            "/usr/local/lib/python3.7/dist-packages/sklearn/linear_model/_logistic.py:818: ConvergenceWarning: lbfgs failed to converge (status=1):\n",
            "STOP: TOTAL NO. of ITERATIONS REACHED LIMIT.\n",
            "\n",
            "Increase the number of iterations (max_iter) or scale the data as shown in:\n",
            "    https://scikit-learn.org/stable/modules/preprocessing.html\n",
            "Please also refer to the documentation for alternative solver options:\n",
            "    https://scikit-learn.org/stable/modules/linear_model.html#logistic-regression\n",
            "  extra_warning_msg=_LOGISTIC_SOLVER_CONVERGENCE_MSG,\n",
            "/usr/local/lib/python3.7/dist-packages/sklearn/linear_model/_logistic.py:818: ConvergenceWarning: lbfgs failed to converge (status=1):\n",
            "STOP: TOTAL NO. of ITERATIONS REACHED LIMIT.\n",
            "\n",
            "Increase the number of iterations (max_iter) or scale the data as shown in:\n",
            "    https://scikit-learn.org/stable/modules/preprocessing.html\n",
            "Please also refer to the documentation for alternative solver options:\n",
            "    https://scikit-learn.org/stable/modules/linear_model.html#logistic-regression\n",
            "  extra_warning_msg=_LOGISTIC_SOLVER_CONVERGENCE_MSG,\n"
          ]
        },
        {
          "output_type": "stream",
          "name": "stdout",
          "text": [
            "100\n"
          ]
        },
        {
          "output_type": "stream",
          "name": "stderr",
          "text": [
            "/usr/local/lib/python3.7/dist-packages/sklearn/linear_model/_logistic.py:818: ConvergenceWarning: lbfgs failed to converge (status=1):\n",
            "STOP: TOTAL NO. of ITERATIONS REACHED LIMIT.\n",
            "\n",
            "Increase the number of iterations (max_iter) or scale the data as shown in:\n",
            "    https://scikit-learn.org/stable/modules/preprocessing.html\n",
            "Please also refer to the documentation for alternative solver options:\n",
            "    https://scikit-learn.org/stable/modules/linear_model.html#logistic-regression\n",
            "  extra_warning_msg=_LOGISTIC_SOLVER_CONVERGENCE_MSG,\n",
            "/usr/local/lib/python3.7/dist-packages/sklearn/linear_model/_logistic.py:818: ConvergenceWarning: lbfgs failed to converge (status=1):\n",
            "STOP: TOTAL NO. of ITERATIONS REACHED LIMIT.\n",
            "\n",
            "Increase the number of iterations (max_iter) or scale the data as shown in:\n",
            "    https://scikit-learn.org/stable/modules/preprocessing.html\n",
            "Please also refer to the documentation for alternative solver options:\n",
            "    https://scikit-learn.org/stable/modules/linear_model.html#logistic-regression\n",
            "  extra_warning_msg=_LOGISTIC_SOLVER_CONVERGENCE_MSG,\n",
            "/usr/local/lib/python3.7/dist-packages/sklearn/linear_model/_logistic.py:818: ConvergenceWarning: lbfgs failed to converge (status=1):\n",
            "STOP: TOTAL NO. of ITERATIONS REACHED LIMIT.\n",
            "\n",
            "Increase the number of iterations (max_iter) or scale the data as shown in:\n",
            "    https://scikit-learn.org/stable/modules/preprocessing.html\n",
            "Please also refer to the documentation for alternative solver options:\n",
            "    https://scikit-learn.org/stable/modules/linear_model.html#logistic-regression\n",
            "  extra_warning_msg=_LOGISTIC_SOLVER_CONVERGENCE_MSG,\n",
            "/usr/local/lib/python3.7/dist-packages/sklearn/linear_model/_logistic.py:818: ConvergenceWarning: lbfgs failed to converge (status=1):\n",
            "STOP: TOTAL NO. of ITERATIONS REACHED LIMIT.\n",
            "\n",
            "Increase the number of iterations (max_iter) or scale the data as shown in:\n",
            "    https://scikit-learn.org/stable/modules/preprocessing.html\n",
            "Please also refer to the documentation for alternative solver options:\n",
            "    https://scikit-learn.org/stable/modules/linear_model.html#logistic-regression\n",
            "  extra_warning_msg=_LOGISTIC_SOLVER_CONVERGENCE_MSG,\n"
          ]
        },
        {
          "output_type": "stream",
          "name": "stdout",
          "text": [
            "[0.32852906495357115, 0.3190721565010149, 0.13001741033210737]\n",
            "[0.5256299442104597, 0.5200594963567846, 0.4961982108952313]\n",
            "[0.5266030030676834, 0.54764008449981, 0.5517908606291599]\n",
            "[0.2858470525756771, 0.2858470525756771, 0.12161444503451939, 0.475570897503983, 0.4721189591078067, 0.45313329792883694, 0.46946362187997875, 0.4838024429102496, 0.4714551248008497]\n"
          ]
        },
        {
          "output_type": "stream",
          "name": "stderr",
          "text": [
            "/usr/local/lib/python3.7/dist-packages/sklearn/linear_model/_logistic.py:818: ConvergenceWarning: lbfgs failed to converge (status=1):\n",
            "STOP: TOTAL NO. of ITERATIONS REACHED LIMIT.\n",
            "\n",
            "Increase the number of iterations (max_iter) or scale the data as shown in:\n",
            "    https://scikit-learn.org/stable/modules/preprocessing.html\n",
            "Please also refer to the documentation for alternative solver options:\n",
            "    https://scikit-learn.org/stable/modules/linear_model.html#logistic-regression\n",
            "  extra_warning_msg=_LOGISTIC_SOLVER_CONVERGENCE_MSG,\n"
          ]
        }
      ],
      "source": [
        "GNB_tty_scores = []\n",
        "MNB_tty_scores = []\n",
        "LR_tty_scores = []\n",
        "tty_test = []\n",
        "\n",
        "for param in smoothing:\n",
        "    print(param)\n",
        "    GNB = GaussianNaiveBayes(param)\n",
        "    GNB_tty_scores.append(cv.kfoldCV(ttx, tty, 5, GNB))\n",
        "    tty_test.append(evaluate_acc(GNB.predict(twenty_test_x_vec), twenty_test_y_vec))\n",
        "\n",
        "for param in alpha:\n",
        "    print(param)\n",
        "    MNB = MultinomialNaiveBayes(param)\n",
        "    MNB_tty_scores.append(cv.kfoldCV(ttx, tty, 5, MNB))\n",
        "    tty_test.append(evaluate_acc(MNB.predict(twenty_test_x_vec), twenty_test_y_vec))\n",
        "\n",
        "for solver in solvers:\n",
        "    for max_iter in max_iters:\n",
        "        print(max_iter)\n",
        "        LR = LogisticRegression(max_iter=max_iter, multi_class='multinomial', solver=solver)\n",
        "        LR_tty_scores.append(cv.kfoldCV(ttx, tty, 5, LR))\n",
        "        tty_test.append(evaluate_acc(LR.predict(twenty_test_x_vec), twenty_test_y_vec))\n",
        "\n",
        "print(GNB_tty_scores)\n",
        "print(MNB_tty_scores)\n",
        "print(LR_tty_scores)\n",
        "print(tty_test)"
      ]
    },
    {
      "cell_type": "code",
      "execution_count": 22,
      "metadata": {
        "colab": {
          "base_uri": "https://localhost:8080/"
        },
        "id": "n82r9z3b6TMy",
        "outputId": "010932ad-5922-4466-c5f3-517f2008ba7d"
      },
      "outputs": [
        {
          "output_type": "stream",
          "name": "stdout",
          "text": [
            "0.005\n",
            "0.05\n",
            "0.5\n",
            "1\n",
            "5\n",
            "10\n",
            "50\n"
          ]
        },
        {
          "output_type": "stream",
          "name": "stderr",
          "text": [
            "/usr/local/lib/python3.7/dist-packages/sklearn/linear_model/_logistic.py:818: ConvergenceWarning: lbfgs failed to converge (status=1):\n",
            "STOP: TOTAL NO. of ITERATIONS REACHED LIMIT.\n",
            "\n",
            "Increase the number of iterations (max_iter) or scale the data as shown in:\n",
            "    https://scikit-learn.org/stable/modules/preprocessing.html\n",
            "Please also refer to the documentation for alternative solver options:\n",
            "    https://scikit-learn.org/stable/modules/linear_model.html#logistic-regression\n",
            "  extra_warning_msg=_LOGISTIC_SOLVER_CONVERGENCE_MSG,\n",
            "/usr/local/lib/python3.7/dist-packages/sklearn/linear_model/_logistic.py:818: ConvergenceWarning: lbfgs failed to converge (status=1):\n",
            "STOP: TOTAL NO. of ITERATIONS REACHED LIMIT.\n",
            "\n",
            "Increase the number of iterations (max_iter) or scale the data as shown in:\n",
            "    https://scikit-learn.org/stable/modules/preprocessing.html\n",
            "Please also refer to the documentation for alternative solver options:\n",
            "    https://scikit-learn.org/stable/modules/linear_model.html#logistic-regression\n",
            "  extra_warning_msg=_LOGISTIC_SOLVER_CONVERGENCE_MSG,\n",
            "/usr/local/lib/python3.7/dist-packages/sklearn/linear_model/_logistic.py:818: ConvergenceWarning: lbfgs failed to converge (status=1):\n",
            "STOP: TOTAL NO. of ITERATIONS REACHED LIMIT.\n",
            "\n",
            "Increase the number of iterations (max_iter) or scale the data as shown in:\n",
            "    https://scikit-learn.org/stable/modules/preprocessing.html\n",
            "Please also refer to the documentation for alternative solver options:\n",
            "    https://scikit-learn.org/stable/modules/linear_model.html#logistic-regression\n",
            "  extra_warning_msg=_LOGISTIC_SOLVER_CONVERGENCE_MSG,\n",
            "/usr/local/lib/python3.7/dist-packages/sklearn/linear_model/_logistic.py:818: ConvergenceWarning: lbfgs failed to converge (status=1):\n",
            "STOP: TOTAL NO. of ITERATIONS REACHED LIMIT.\n",
            "\n",
            "Increase the number of iterations (max_iter) or scale the data as shown in:\n",
            "    https://scikit-learn.org/stable/modules/preprocessing.html\n",
            "Please also refer to the documentation for alternative solver options:\n",
            "    https://scikit-learn.org/stable/modules/linear_model.html#logistic-regression\n",
            "  extra_warning_msg=_LOGISTIC_SOLVER_CONVERGENCE_MSG,\n",
            "/usr/local/lib/python3.7/dist-packages/sklearn/linear_model/_logistic.py:818: ConvergenceWarning: lbfgs failed to converge (status=1):\n",
            "STOP: TOTAL NO. of ITERATIONS REACHED LIMIT.\n",
            "\n",
            "Increase the number of iterations (max_iter) or scale the data as shown in:\n",
            "    https://scikit-learn.org/stable/modules/preprocessing.html\n",
            "Please also refer to the documentation for alternative solver options:\n",
            "    https://scikit-learn.org/stable/modules/linear_model.html#logistic-regression\n",
            "  extra_warning_msg=_LOGISTIC_SOLVER_CONVERGENCE_MSG,\n"
          ]
        },
        {
          "output_type": "stream",
          "name": "stdout",
          "text": [
            "75\n"
          ]
        },
        {
          "output_type": "stream",
          "name": "stderr",
          "text": [
            "/usr/local/lib/python3.7/dist-packages/sklearn/linear_model/_logistic.py:818: ConvergenceWarning: lbfgs failed to converge (status=1):\n",
            "STOP: TOTAL NO. of ITERATIONS REACHED LIMIT.\n",
            "\n",
            "Increase the number of iterations (max_iter) or scale the data as shown in:\n",
            "    https://scikit-learn.org/stable/modules/preprocessing.html\n",
            "Please also refer to the documentation for alternative solver options:\n",
            "    https://scikit-learn.org/stable/modules/linear_model.html#logistic-regression\n",
            "  extra_warning_msg=_LOGISTIC_SOLVER_CONVERGENCE_MSG,\n",
            "/usr/local/lib/python3.7/dist-packages/sklearn/linear_model/_logistic.py:818: ConvergenceWarning: lbfgs failed to converge (status=1):\n",
            "STOP: TOTAL NO. of ITERATIONS REACHED LIMIT.\n",
            "\n",
            "Increase the number of iterations (max_iter) or scale the data as shown in:\n",
            "    https://scikit-learn.org/stable/modules/preprocessing.html\n",
            "Please also refer to the documentation for alternative solver options:\n",
            "    https://scikit-learn.org/stable/modules/linear_model.html#logistic-regression\n",
            "  extra_warning_msg=_LOGISTIC_SOLVER_CONVERGENCE_MSG,\n",
            "/usr/local/lib/python3.7/dist-packages/sklearn/linear_model/_logistic.py:818: ConvergenceWarning: lbfgs failed to converge (status=1):\n",
            "STOP: TOTAL NO. of ITERATIONS REACHED LIMIT.\n",
            "\n",
            "Increase the number of iterations (max_iter) or scale the data as shown in:\n",
            "    https://scikit-learn.org/stable/modules/preprocessing.html\n",
            "Please also refer to the documentation for alternative solver options:\n",
            "    https://scikit-learn.org/stable/modules/linear_model.html#logistic-regression\n",
            "  extra_warning_msg=_LOGISTIC_SOLVER_CONVERGENCE_MSG,\n",
            "/usr/local/lib/python3.7/dist-packages/sklearn/linear_model/_logistic.py:818: ConvergenceWarning: lbfgs failed to converge (status=1):\n",
            "STOP: TOTAL NO. of ITERATIONS REACHED LIMIT.\n",
            "\n",
            "Increase the number of iterations (max_iter) or scale the data as shown in:\n",
            "    https://scikit-learn.org/stable/modules/preprocessing.html\n",
            "Please also refer to the documentation for alternative solver options:\n",
            "    https://scikit-learn.org/stable/modules/linear_model.html#logistic-regression\n",
            "  extra_warning_msg=_LOGISTIC_SOLVER_CONVERGENCE_MSG,\n",
            "/usr/local/lib/python3.7/dist-packages/sklearn/linear_model/_logistic.py:818: ConvergenceWarning: lbfgs failed to converge (status=1):\n",
            "STOP: TOTAL NO. of ITERATIONS REACHED LIMIT.\n",
            "\n",
            "Increase the number of iterations (max_iter) or scale the data as shown in:\n",
            "    https://scikit-learn.org/stable/modules/preprocessing.html\n",
            "Please also refer to the documentation for alternative solver options:\n",
            "    https://scikit-learn.org/stable/modules/linear_model.html#logistic-regression\n",
            "  extra_warning_msg=_LOGISTIC_SOLVER_CONVERGENCE_MSG,\n"
          ]
        },
        {
          "output_type": "stream",
          "name": "stdout",
          "text": [
            "100\n"
          ]
        },
        {
          "output_type": "stream",
          "name": "stderr",
          "text": [
            "/usr/local/lib/python3.7/dist-packages/sklearn/linear_model/_logistic.py:818: ConvergenceWarning: lbfgs failed to converge (status=1):\n",
            "STOP: TOTAL NO. of ITERATIONS REACHED LIMIT.\n",
            "\n",
            "Increase the number of iterations (max_iter) or scale the data as shown in:\n",
            "    https://scikit-learn.org/stable/modules/preprocessing.html\n",
            "Please also refer to the documentation for alternative solver options:\n",
            "    https://scikit-learn.org/stable/modules/linear_model.html#logistic-regression\n",
            "  extra_warning_msg=_LOGISTIC_SOLVER_CONVERGENCE_MSG,\n",
            "/usr/local/lib/python3.7/dist-packages/sklearn/linear_model/_logistic.py:818: ConvergenceWarning: lbfgs failed to converge (status=1):\n",
            "STOP: TOTAL NO. of ITERATIONS REACHED LIMIT.\n",
            "\n",
            "Increase the number of iterations (max_iter) or scale the data as shown in:\n",
            "    https://scikit-learn.org/stable/modules/preprocessing.html\n",
            "Please also refer to the documentation for alternative solver options:\n",
            "    https://scikit-learn.org/stable/modules/linear_model.html#logistic-regression\n",
            "  extra_warning_msg=_LOGISTIC_SOLVER_CONVERGENCE_MSG,\n",
            "/usr/local/lib/python3.7/dist-packages/sklearn/linear_model/_logistic.py:818: ConvergenceWarning: lbfgs failed to converge (status=1):\n",
            "STOP: TOTAL NO. of ITERATIONS REACHED LIMIT.\n",
            "\n",
            "Increase the number of iterations (max_iter) or scale the data as shown in:\n",
            "    https://scikit-learn.org/stable/modules/preprocessing.html\n",
            "Please also refer to the documentation for alternative solver options:\n",
            "    https://scikit-learn.org/stable/modules/linear_model.html#logistic-regression\n",
            "  extra_warning_msg=_LOGISTIC_SOLVER_CONVERGENCE_MSG,\n",
            "/usr/local/lib/python3.7/dist-packages/sklearn/linear_model/_logistic.py:818: ConvergenceWarning: lbfgs failed to converge (status=1):\n",
            "STOP: TOTAL NO. of ITERATIONS REACHED LIMIT.\n",
            "\n",
            "Increase the number of iterations (max_iter) or scale the data as shown in:\n",
            "    https://scikit-learn.org/stable/modules/preprocessing.html\n",
            "Please also refer to the documentation for alternative solver options:\n",
            "    https://scikit-learn.org/stable/modules/linear_model.html#logistic-regression\n",
            "  extra_warning_msg=_LOGISTIC_SOLVER_CONVERGENCE_MSG,\n"
          ]
        },
        {
          "output_type": "stream",
          "name": "stdout",
          "text": [
            "[0.35425429385924867, 0.346921118163167, 0.12966280455399976]\n",
            "[0.5784894605450347, 0.5719493875168464, 0.5664679812989154]\n",
            "[0.5731011539515055, 0.5685937430497189, 0.5670892437547945]\n",
            "[0.3104089219330855, 0.306558682952735, 0.1209506107275624, 0.5262878385554965, 0.5229686670207117, 0.521109930961232, 0.5116834838024429, 0.5088953797132236, 0.507036643653744]\n"
          ]
        },
        {
          "output_type": "stream",
          "name": "stderr",
          "text": [
            "/usr/local/lib/python3.7/dist-packages/sklearn/linear_model/_logistic.py:818: ConvergenceWarning: lbfgs failed to converge (status=1):\n",
            "STOP: TOTAL NO. of ITERATIONS REACHED LIMIT.\n",
            "\n",
            "Increase the number of iterations (max_iter) or scale the data as shown in:\n",
            "    https://scikit-learn.org/stable/modules/preprocessing.html\n",
            "Please also refer to the documentation for alternative solver options:\n",
            "    https://scikit-learn.org/stable/modules/linear_model.html#logistic-regression\n",
            "  extra_warning_msg=_LOGISTIC_SOLVER_CONVERGENCE_MSG,\n"
          ]
        }
      ],
      "source": [
        "GNB_ttty_scores = []\n",
        "MNB_ttty_scores = []\n",
        "LR_ttty_scores = []\n",
        "ttty_test = []\n",
        "\n",
        "for param in smoothing:\n",
        "    print(param)\n",
        "    GNB = GaussianNaiveBayes(param)\n",
        "    GNB_ttty_scores.append(cv.kfoldCV(tttx, ttty, 5, GNB))\n",
        "    ttty_test.append(evaluate_acc(GNB.predict(twenty_test_tsls_x_vec), twenty_test_y_vec))\n",
        "\n",
        "for param in alpha:\n",
        "    print(param)\n",
        "    MNB = MultinomialNaiveBayes(param)\n",
        "    MNB_ttty_scores.append(cv.kfoldCV(tttx, ttty, 5, MNB))\n",
        "    ttty_test.append(evaluate_acc(MNB.predict(twenty_test_tsls_x_vec), twenty_test_y_vec))\n",
        "\n",
        "for solver in solvers:\n",
        "    for max_iter in max_iters:\n",
        "        print(max_iter)\n",
        "        LR = LogisticRegression(max_iter=max_iter, multi_class='multinomial', solver=solver)\n",
        "        LR_ttty_scores.append(cv.kfoldCV(tttx, ttty, 5, LR))\n",
        "        ttty_test.append(evaluate_acc(LR.predict(twenty_test_tsls_x_vec), twenty_test_y_vec))\n",
        "\n",
        "print(GNB_ttty_scores)\n",
        "print(MNB_ttty_scores)\n",
        "print(LR_ttty_scores)\n",
        "print(ttty_test)"
      ]
    },
    {
      "cell_type": "code",
      "execution_count": 23,
      "metadata": {
        "colab": {
          "base_uri": "https://localhost:8080/"
        },
        "id": "3P4j9b346TBm",
        "outputId": "b093bd1b-3d6c-421c-fb73-49b139d6d4ce"
      },
      "outputs": [
        {
          "output_type": "stream",
          "name": "stdout",
          "text": [
            "0.005\n",
            "0.05\n",
            "0.5\n",
            "1\n",
            "5\n",
            "10\n",
            "50\n"
          ]
        },
        {
          "output_type": "stream",
          "name": "stderr",
          "text": [
            "/usr/local/lib/python3.7/dist-packages/sklearn/linear_model/_logistic.py:818: ConvergenceWarning: lbfgs failed to converge (status=1):\n",
            "STOP: TOTAL NO. of ITERATIONS REACHED LIMIT.\n",
            "\n",
            "Increase the number of iterations (max_iter) or scale the data as shown in:\n",
            "    https://scikit-learn.org/stable/modules/preprocessing.html\n",
            "Please also refer to the documentation for alternative solver options:\n",
            "    https://scikit-learn.org/stable/modules/linear_model.html#logistic-regression\n",
            "  extra_warning_msg=_LOGISTIC_SOLVER_CONVERGENCE_MSG,\n",
            "/usr/local/lib/python3.7/dist-packages/sklearn/linear_model/_logistic.py:818: ConvergenceWarning: lbfgs failed to converge (status=1):\n",
            "STOP: TOTAL NO. of ITERATIONS REACHED LIMIT.\n",
            "\n",
            "Increase the number of iterations (max_iter) or scale the data as shown in:\n",
            "    https://scikit-learn.org/stable/modules/preprocessing.html\n",
            "Please also refer to the documentation for alternative solver options:\n",
            "    https://scikit-learn.org/stable/modules/linear_model.html#logistic-regression\n",
            "  extra_warning_msg=_LOGISTIC_SOLVER_CONVERGENCE_MSG,\n",
            "/usr/local/lib/python3.7/dist-packages/sklearn/linear_model/_logistic.py:818: ConvergenceWarning: lbfgs failed to converge (status=1):\n",
            "STOP: TOTAL NO. of ITERATIONS REACHED LIMIT.\n",
            "\n",
            "Increase the number of iterations (max_iter) or scale the data as shown in:\n",
            "    https://scikit-learn.org/stable/modules/preprocessing.html\n",
            "Please also refer to the documentation for alternative solver options:\n",
            "    https://scikit-learn.org/stable/modules/linear_model.html#logistic-regression\n",
            "  extra_warning_msg=_LOGISTIC_SOLVER_CONVERGENCE_MSG,\n",
            "/usr/local/lib/python3.7/dist-packages/sklearn/linear_model/_logistic.py:818: ConvergenceWarning: lbfgs failed to converge (status=1):\n",
            "STOP: TOTAL NO. of ITERATIONS REACHED LIMIT.\n",
            "\n",
            "Increase the number of iterations (max_iter) or scale the data as shown in:\n",
            "    https://scikit-learn.org/stable/modules/preprocessing.html\n",
            "Please also refer to the documentation for alternative solver options:\n",
            "    https://scikit-learn.org/stable/modules/linear_model.html#logistic-regression\n",
            "  extra_warning_msg=_LOGISTIC_SOLVER_CONVERGENCE_MSG,\n",
            "/usr/local/lib/python3.7/dist-packages/sklearn/linear_model/_logistic.py:818: ConvergenceWarning: lbfgs failed to converge (status=1):\n",
            "STOP: TOTAL NO. of ITERATIONS REACHED LIMIT.\n",
            "\n",
            "Increase the number of iterations (max_iter) or scale the data as shown in:\n",
            "    https://scikit-learn.org/stable/modules/preprocessing.html\n",
            "Please also refer to the documentation for alternative solver options:\n",
            "    https://scikit-learn.org/stable/modules/linear_model.html#logistic-regression\n",
            "  extra_warning_msg=_LOGISTIC_SOLVER_CONVERGENCE_MSG,\n"
          ]
        },
        {
          "output_type": "stream",
          "name": "stdout",
          "text": [
            "75\n",
            "100\n",
            "[0.6852375000000002, 0.6810375000000001, 0.50665]\n",
            "[0.7102625, 0.710125, 0.7098749999999999]\n",
            "[0.7182000000000001, 0.718225, 0.718225]\n",
            "[0.6657381615598886, 0.6462395543175488, 0.5153203342618384, 0.6796657381615598, 0.6796657381615598, 0.6768802228412256, 0.6740947075208914, 0.6740947075208914, 0.6740947075208914]\n"
          ]
        }
      ],
      "source": [
        "GNB_sty_scores = []\n",
        "MNB_sty_scores = []\n",
        "LR_sty_scores = []\n",
        "sty_test = []\n",
        "\n",
        "for param in smoothing:\n",
        "    print(param)\n",
        "    GNB = GaussianNaiveBayes(param)\n",
        "    GNB_sty_scores.append(cv.kfoldCV(stx, sty, 5, GNB))\n",
        "    sty_test.append(evaluate_acc(GNB.predict(s140_test_x_vec), s140_test_y_vec))\n",
        "    \n",
        "for param in alpha:\n",
        "    print(param)\n",
        "    MNB = MultinomialNaiveBayes(param)\n",
        "    MNB_sty_scores.append(cv.kfoldCV(stx, sty, 5, MNB))\n",
        "    sty_test.append(evaluate_acc(MNB.predict(s140_test_x_vec), s140_test_y_vec))\n",
        "\n",
        "for solver in solvers:\n",
        "    for max_iter in max_iters:\n",
        "        print(max_iter)\n",
        "        LR = LogisticRegression(max_iter=max_iter, multi_class='multinomial', solver=solver)\n",
        "        LR_sty_scores.append(cv.kfoldCV(stx, sty, 5, LR))\n",
        "        sty_test.append(evaluate_acc(LR.predict(s140_test_x_vec), s140_test_y_vec))\n",
        "\n",
        "print(GNB_sty_scores)\n",
        "print(MNB_sty_scores)\n",
        "print(LR_sty_scores)\n",
        "print(sty_test)"
      ]
    },
    {
      "cell_type": "code",
      "execution_count": 24,
      "metadata": {
        "colab": {
          "base_uri": "https://localhost:8080/"
        },
        "id": "gyrmjLLw6RHI",
        "outputId": "a90d45c9-8d63-4b0d-ad21-6cb8ad4a4eba"
      },
      "outputs": [
        {
          "output_type": "stream",
          "name": "stdout",
          "text": [
            "0.005\n",
            "0.05\n",
            "0.5\n",
            "1\n",
            "5\n",
            "10\n",
            "50\n",
            "75\n",
            "100\n",
            "[0.6852500000000001, 0.686875, 0.5377875]\n",
            "[0.6949875000000001, 0.6949750000000001, 0.6949]\n",
            "[0.6994625, 0.6994625, 0.6994625]\n",
            "[0.6880222841225627, 0.6657381615598886, 0.5181058495821727, 0.6796657381615598, 0.6796657381615598, 0.6824512534818942, 0.6991643454038997, 0.6991643454038997, 0.6991643454038997]\n"
          ]
        }
      ],
      "source": [
        "GNB_stty_scores = []\n",
        "MNB_stty_scores = []\n",
        "LR_stty_scores = []\n",
        "stty_test = []\n",
        "\n",
        "for param in smoothing:\n",
        "    print(param)\n",
        "    GNB = GaussianNaiveBayes(param)\n",
        "    GNB_stty_scores.append(cv.kfoldCV(sttx, stty, 5, GNB))\n",
        "    stty_test.append(evaluate_acc(GNB.predict(s140_test_tsls_x_vec), s140_test_y_vec))\n",
        "\n",
        "for param in alpha:\n",
        "    print(param)\n",
        "    MNB = MultinomialNaiveBayes(param)\n",
        "    MNB_stty_scores.append(cv.kfoldCV(sttx, stty, 5, MNB))\n",
        "    stty_test.append(evaluate_acc(MNB.predict(s140_test_tsls_x_vec), s140_test_y_vec))\n",
        "\n",
        "for solver in solvers:\n",
        "    for max_iter in max_iters:\n",
        "        print(max_iter)\n",
        "        LR = LogisticRegression(max_iter=max_iter, multi_class='multinomial', solver=solver)\n",
        "        LR_stty_scores.append(cv.kfoldCV(sttx, stty, 5, LR))\n",
        "        stty_test.append(evaluate_acc(LR.predict(s140_test_tsls_x_vec), s140_test_y_vec))\n",
        "\n",
        "print(GNB_stty_scores)\n",
        "print(MNB_stty_scores)\n",
        "print(LR_stty_scores)\n",
        "print(stty_test)"
      ]
    },
    {
      "cell_type": "code",
      "execution_count": 25,
      "metadata": {
        "id": "9Daqfvah-NV8",
        "colab": {
          "base_uri": "https://localhost:8080/"
        },
        "outputId": "059e7ad4-c403-4d23-ee63-bc760c3e7c19"
      },
      "outputs": [
        {
          "output_type": "stream",
          "name": "stderr",
          "text": [
            "/usr/local/lib/python3.7/dist-packages/sklearn/linear_model/_logistic.py:818: ConvergenceWarning: lbfgs failed to converge (status=1):\n",
            "STOP: TOTAL NO. of ITERATIONS REACHED LIMIT.\n",
            "\n",
            "Increase the number of iterations (max_iter) or scale the data as shown in:\n",
            "    https://scikit-learn.org/stable/modules/preprocessing.html\n",
            "Please also refer to the documentation for alternative solver options:\n",
            "    https://scikit-learn.org/stable/modules/linear_model.html#logistic-regression\n",
            "  extra_warning_msg=_LOGISTIC_SOLVER_CONVERGENCE_MSG,\n",
            "/usr/local/lib/python3.7/dist-packages/sklearn/linear_model/_logistic.py:818: ConvergenceWarning: lbfgs failed to converge (status=1):\n",
            "STOP: TOTAL NO. of ITERATIONS REACHED LIMIT.\n",
            "\n",
            "Increase the number of iterations (max_iter) or scale the data as shown in:\n",
            "    https://scikit-learn.org/stable/modules/preprocessing.html\n",
            "Please also refer to the documentation for alternative solver options:\n",
            "    https://scikit-learn.org/stable/modules/linear_model.html#logistic-regression\n",
            "  extra_warning_msg=_LOGISTIC_SOLVER_CONVERGENCE_MSG,\n",
            "/usr/local/lib/python3.7/dist-packages/sklearn/linear_model/_logistic.py:818: ConvergenceWarning: lbfgs failed to converge (status=1):\n",
            "STOP: TOTAL NO. of ITERATIONS REACHED LIMIT.\n",
            "\n",
            "Increase the number of iterations (max_iter) or scale the data as shown in:\n",
            "    https://scikit-learn.org/stable/modules/preprocessing.html\n",
            "Please also refer to the documentation for alternative solver options:\n",
            "    https://scikit-learn.org/stable/modules/linear_model.html#logistic-regression\n",
            "  extra_warning_msg=_LOGISTIC_SOLVER_CONVERGENCE_MSG,\n",
            "/usr/local/lib/python3.7/dist-packages/sklearn/linear_model/_logistic.py:818: ConvergenceWarning: lbfgs failed to converge (status=1):\n",
            "STOP: TOTAL NO. of ITERATIONS REACHED LIMIT.\n",
            "\n",
            "Increase the number of iterations (max_iter) or scale the data as shown in:\n",
            "    https://scikit-learn.org/stable/modules/preprocessing.html\n",
            "Please also refer to the documentation for alternative solver options:\n",
            "    https://scikit-learn.org/stable/modules/linear_model.html#logistic-regression\n",
            "  extra_warning_msg=_LOGISTIC_SOLVER_CONVERGENCE_MSG,\n",
            "/usr/local/lib/python3.7/dist-packages/sklearn/linear_model/_logistic.py:818: ConvergenceWarning: lbfgs failed to converge (status=1):\n",
            "STOP: TOTAL NO. of ITERATIONS REACHED LIMIT.\n",
            "\n",
            "Increase the number of iterations (max_iter) or scale the data as shown in:\n",
            "    https://scikit-learn.org/stable/modules/preprocessing.html\n",
            "Please also refer to the documentation for alternative solver options:\n",
            "    https://scikit-learn.org/stable/modules/linear_model.html#logistic-regression\n",
            "  extra_warning_msg=_LOGISTIC_SOLVER_CONVERGENCE_MSG,\n"
          ]
        }
      ],
      "source": [
        "MNB_tty_size_scores = []\n",
        "LR_tty_size_scores = []\n",
        "\n",
        "MNB = MultinomialNaiveBayes(alpha=1)\n",
        "LR = LogisticRegression(max_iter=100, multi_class='multinomial')\n",
        "\n",
        "for i in range(len(ttxs)):\n",
        "    MNB.fit(ttxs[i], ttys[i])\n",
        "    MNB_tty_size_scores.append(evaluate_acc(MNB.predict(twenty_test_x_vec), twenty_test_y_vec))\n",
        "    LR.fit(ttxs[i], ttys[i])\n",
        "    LR_tty_size_scores.append(evaluate_acc(LR.predict(twenty_test_x_vec), twenty_test_y_vec))\n"
      ]
    },
    {
      "cell_type": "code",
      "execution_count": 26,
      "metadata": {
        "id": "gc-vtyClCWSB"
      },
      "outputs": [],
      "source": [
        "MNB_sty_size_scores = []\n",
        "LR_sty_size_scores = []\n",
        "\n",
        "MNB = MultinomialNaiveBayes(alpha=1)\n",
        "LR = LogisticRegression(max_iter=100, multi_class='multinomial')\n",
        "\n",
        "for i in range(len(stxs)):\n",
        "    MNB.fit(stxs[i], stys[i])\n",
        "    MNB_sty_size_scores.append(evaluate_acc(MNB.predict(s140_test_x_vec), s140_test_y_vec))\n",
        "    LR.fit(stxs[i], stys[i])\n",
        "    LR_sty_size_scores.append(evaluate_acc(LR.predict(s140_test_x_vec), s140_test_y_vec))"
      ]
    },
    {
      "cell_type": "code",
      "execution_count": 27,
      "metadata": {
        "id": "-vPM5G8yCsub",
        "colab": {
          "base_uri": "https://localhost:8080/",
          "height": 295
        },
        "outputId": "7bbfc17e-b3e2-423f-ed26-7c4a5853184a"
      },
      "outputs": [
        {
          "output_type": "display_data",
          "data": {
            "image/png": "[encoded data removed]",
            "text/plain": [
              "<Figure size 432x288 with 1 Axes>"
            ]
          },
          "metadata": {
            "needs_background": "light"
          }
        }
      ],
      "source": [
        "x = ['20%', '40%', '60%', '80%', '100%']\n",
        "\n",
        "plt.plot(x, MNB_tty_size_scores, label='MNB')\n",
        "plt.plot(x, LR_tty_size_scores, label='LR')\n",
        "plt.xlabel(\"Dataset Size\")\n",
        "plt.ylabel(\"Test Set Accuracy\")\n",
        "plt.title(\"Effects of Dataset Size on Test Accuracy with 20 News Group Dataset\")\n",
        "plt.legend()\n",
        "plt.show()"
      ]
    },
    {
      "cell_type": "code",
      "execution_count": 28,
      "metadata": {
        "id": "tWKwfMfaDjEH",
        "colab": {
          "base_uri": "https://localhost:8080/",
          "height": 295
        },
        "outputId": "0e058fd0-dab1-4c65-e09c-b9053bcab2a6"
      },
      "outputs": [
        {
          "output_type": "display_data",
          "data": {
            "image/png": "[encoded data removed]",
            "text/plain": [
              "<Figure size 432x288 with 1 Axes>"
            ]
          },
          "metadata": {
            "needs_background": "light"
          }
        }
      ],
      "source": [
        "x = ['20%', '40%', '60%', '80%', '100%']\n",
        "\n",
        "plt.plot(x, MNB_sty_size_scores, label='MNB')\n",
        "plt.plot(x, LR_sty_size_scores, label='LR')\n",
        "plt.xlabel(\"Dataset Size\")\n",
        "plt.ylabel(\"Test Set Accuracy\")\n",
        "plt.title(\"Effects of Dataset Size on Test Accuracy with Sentiment140 Dataset\")\n",
        "plt.legend()\n",
        "plt.show()"
      ]
    }
  ],
  "metadata": {
    "colab": {
      "collapsed_sections": [
        "UtclpGpjfo1M",
        "Tm-bgS2RkBNe",
        "fjU6VFY_3OzJ",
        "jqqUuznU4zbv"
      ],
      "name": "Comp551_A2.ipynb",
      "provenance": []
    },
    "kernelspec": {
      "display_name": "Python 3",
      "name": "python3"
    },
    "language_info": {
      "name": "python"
    }
  },
  "nbformat": 4,
  "nbformat_minor": 0
}